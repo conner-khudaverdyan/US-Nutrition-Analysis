{
 "cells": [
  {
   "cell_type": "code",
   "execution_count": 1,
   "metadata": {},
   "outputs": [],
   "source": [
    "import pandas as pd\n"
   ]
  },
  {
   "cell_type": "code",
   "execution_count": 67,
   "metadata": {},
   "outputs": [],
   "source": [
    "df = pd.read_csv('/Users/connerkhudaverdyan/Desktop/Projects/nutri_proj/Nutrition__Physical_Activity__and_Obesity_-_Behavioral_Risk_Factor_Surveillance_System (1).csv')"
   ]
  },
  {
   "cell_type": "code",
   "execution_count": 21,
   "metadata": {},
   "outputs": [],
   "source": [
    "bruh = df[df['LocationAbbr']== 'AK'][['Income', 'Data_Value']]\n",
    "#len(df[df['LocationAbbr']== 'AK'])"
   ]
  },
  {
   "cell_type": "code",
   "execution_count": 47,
   "metadata": {},
   "outputs": [
    {
     "data": {
      "text/plain": [
       "Index(['YearStart', 'YearEnd', 'LocationAbbr', 'LocationDesc', 'Datasource',\n",
       "       'Class', 'Topic', 'Question', 'Data_Value_Unit', 'Data_Value_Type',\n",
       "       'Data_Value', 'Data_Value_Alt', 'Data_Value_Footnote_Symbol',\n",
       "       'Data_Value_Footnote', 'Low_Confidence_Limit', 'High_Confidence_Limit ',\n",
       "       'Sample_Size', 'Total', 'Age(years)', 'Education', 'Gender', 'Income',\n",
       "       'Race/Ethnicity', 'GeoLocation', 'ClassID', 'TopicID', 'QuestionID',\n",
       "       'DataValueTypeID', 'LocationID', 'StratificationCategory1',\n",
       "       'Stratification1', 'StratificationCategoryId1', 'StratificationID1'],\n",
       "      dtype='object')"
      ]
     },
     "execution_count": 47,
     "metadata": {},
     "output_type": "execute_result"
    }
   ],
   "source": [
    "df.columns"
   ]
  },
  {
   "cell_type": "code",
   "execution_count": 48,
   "metadata": {},
   "outputs": [],
   "source": [
    "e = df[(df['Income'].notna()) & (df['LocationAbbr'] == 'AK')][['Sample_Size','Income', 'Question', 'Data_Value', 'YearStart', 'YearEnd']]"
   ]
  },
  {
   "cell_type": "code",
   "execution_count": 51,
   "metadata": {},
   "outputs": [
    {
     "data": {
      "text/plain": [
       "Income              YearStart\n",
       "$15,000 - $24,999   2011         1\n",
       "Data not reported   2014         1\n",
       "                    2012         1\n",
       "                    2011         1\n",
       "$75,000 or greater  2023         1\n",
       "                                ..\n",
       "$35,000 - $49,999   2013         1\n",
       "                    2012         1\n",
       "                    2011         1\n",
       "$25,000 - $34,999   2023         1\n",
       "Less than $15,000   2023         1\n",
       "Name: count, Length: 91, dtype: int64"
      ]
     },
     "execution_count": 51,
     "metadata": {},
     "output_type": "execute_result"
    }
   ],
   "source": [
    "e[e['Question'] == 'Percent of adults aged 18 years and older who have an overweight classification'][['Income', 'YearStart']].value_counts()"
   ]
  },
  {
   "cell_type": "code",
   "execution_count": 99,
   "metadata": {},
   "outputs": [
    {
     "data": {
      "text/plain": [
       "(32.23846153846154, 34.382209469153516)"
      ]
     },
     "execution_count": 99,
     "metadata": {},
     "output_type": "execute_result"
    }
   ],
   "source": [
    "ak = df[(df['LocationDesc'] == 'Idaho') & (df['Income'] == '$15,000 - $24,999')  & (df['QuestionID'] == 'Q036')]['Data_Value'].values.mean()\n",
    "nat = df[(df['Income'] == '$15,000 - $24,999') & (df['QuestionID'] == 'Q036')]['Data_Value'].mean()\n",
    "ak,nat"
   ]
  }
 ],
 "metadata": {
  "kernelspec": {
   "display_name": "base",
   "language": "python",
   "name": "python3"
  },
  "language_info": {
   "codemirror_mode": {
    "name": "ipython",
    "version": 3
   },
   "file_extension": ".py",
   "mimetype": "text/x-python",
   "name": "python",
   "nbconvert_exporter": "python",
   "pygments_lexer": "ipython3",
   "version": "3.11.7"
  }
 },
 "nbformat": 4,
 "nbformat_minor": 2
}
